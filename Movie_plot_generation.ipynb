{
  "nbformat": 4,
  "nbformat_minor": 0,
  "metadata": {
    "accelerator": "GPU",
    "colab": {
      "name": "Movie_plot_generation.ipynb",
      "provenance": [],
      "collapsed_sections": [],
      "authorship_tag": "ABX9TyOXm8adOkvu/g9cSJbTuqR4",
      "include_colab_link": true
    },
    "kernelspec": {
      "display_name": "Python 3",
      "name": "python3"
    },
    "language_info": {
      "name": "python"
    }
  },
  "cells": [
    {
      "cell_type": "markdown",
      "metadata": {
        "id": "view-in-github",
        "colab_type": "text"
      },
      "source": [
        "<a href=\"https://colab.research.google.com/github/Mohit-Kundu/Movie-Plot-Generator-using-Open-GPT-2/blob/main/Movie_plot_generation.ipynb\" target=\"_parent\"><img src=\"https://colab.research.google.com/assets/colab-badge.svg\" alt=\"Open In Colab\"/></a>"
      ]
    },
    {
      "cell_type": "code",
      "metadata": {
        "colab": {
          "base_uri": "https://localhost:8080/"
        },
        "id": "iLuXmV9zs5po",
        "outputId": "0b9c7585-9e99-4303-e62a-1145959c4a87"
      },
      "source": [
        "#Selecting Tensorflow version 1.x as gpt2 currently has a few compatibility issues with version 2.0\n",
        "%tensorflow_version 1.x"
      ],
      "execution_count": 1,
      "outputs": [
        {
          "output_type": "stream",
          "name": "stdout",
          "text": [
            "TensorFlow 1.x selected.\n"
          ]
        }
      ]
    },
    {
      "cell_type": "code",
      "metadata": {
        "colab": {
          "base_uri": "https://localhost:8080/"
        },
        "id": "vd5yCBT3tCKe",
        "outputId": "ee910684-7f38-42ef-a538-5258b525093d"
      },
      "source": [
        "#Importing gpt2 simple\n",
        "!pip install gpt-2-simple"
      ],
      "execution_count": 2,
      "outputs": [
        {
          "output_type": "stream",
          "name": "stdout",
          "text": [
            "Collecting gpt-2-simple\n",
            "  Downloading gpt_2_simple-0.7.2.tar.gz (25 kB)\n",
            "Requirement already satisfied: regex in /usr/local/lib/python3.7/dist-packages (from gpt-2-simple) (2019.12.20)\n",
            "Requirement already satisfied: requests in /usr/local/lib/python3.7/dist-packages (from gpt-2-simple) (2.23.0)\n",
            "Requirement already satisfied: tqdm in /usr/local/lib/python3.7/dist-packages (from gpt-2-simple) (4.62.3)\n",
            "Requirement already satisfied: numpy in /usr/local/lib/python3.7/dist-packages (from gpt-2-simple) (1.19.5)\n",
            "Collecting toposort\n",
            "  Downloading toposort-1.7-py2.py3-none-any.whl (9.0 kB)\n",
            "Requirement already satisfied: urllib3!=1.25.0,!=1.25.1,<1.26,>=1.21.1 in /usr/local/lib/python3.7/dist-packages (from requests->gpt-2-simple) (1.24.3)\n",
            "Requirement already satisfied: idna<3,>=2.5 in /usr/local/lib/python3.7/dist-packages (from requests->gpt-2-simple) (2.10)\n",
            "Requirement already satisfied: certifi>=2017.4.17 in /usr/local/lib/python3.7/dist-packages (from requests->gpt-2-simple) (2021.5.30)\n",
            "Requirement already satisfied: chardet<4,>=3.0.2 in /usr/local/lib/python3.7/dist-packages (from requests->gpt-2-simple) (3.0.4)\n",
            "Building wheels for collected packages: gpt-2-simple\n",
            "  Building wheel for gpt-2-simple (setup.py) ... \u001b[?25l\u001b[?25hdone\n",
            "  Created wheel for gpt-2-simple: filename=gpt_2_simple-0.7.2-py3-none-any.whl size=23620 sha256=2320228999dc00d5f1b96b868e19ee22428845a6389a6db88fa8d357dda446d1\n",
            "  Stored in directory: /root/.cache/pip/wheels/f8/a0/0b/18b541426b0d966b55ae6dc35628a85f67d0698e5fabb1d6c7\n",
            "Successfully built gpt-2-simple\n",
            "Installing collected packages: toposort, gpt-2-simple\n",
            "Successfully installed gpt-2-simple-0.7.2 toposort-1.7\n"
          ]
        }
      ]
    },
    {
      "cell_type": "code",
      "metadata": {
        "colab": {
          "base_uri": "https://localhost:8080/"
        },
        "id": "s30y_xPYtM9k",
        "outputId": "75ece9e1-fc7d-4a77-b4d2-7f81d0f97327"
      },
      "source": [
        "import gpt_2_simple as gpt2\n",
        "from datetime import datetime"
      ],
      "execution_count": 3,
      "outputs": [
        {
          "output_type": "stream",
          "name": "stdout",
          "text": [
            "WARNING:tensorflow:\n",
            "The TensorFlow contrib module will not be included in TensorFlow 2.0.\n",
            "For more information, please see:\n",
            "  * https://github.com/tensorflow/community/blob/master/rfcs/20180907-contrib-sunset.md\n",
            "  * https://github.com/tensorflow/addons\n",
            "  * https://github.com/tensorflow/io (for I/O related ops)\n",
            "If you depend on functionality not listed there, please file an issue.\n",
            "\n"
          ]
        }
      ]
    },
    {
      "cell_type": "code",
      "metadata": {
        "colab": {
          "resources": {
            "http://localhost:8080/nbextensions/google.colab/files.js": {
              "data": "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",
              "ok": true,
              "headers": [
                [
                  "content-type",
                  "application/javascript"
                ]
              ],
              "status": 200,
              "status_text": ""
            }
          },
          "base_uri": "https://localhost:8080/",
          "height": 73
        },
        "id": "0rjxhKafGYI6",
        "outputId": "7880e703-6c11-4060-e026-18c55dad6eca"
      },
      "source": [
        "#upload file to colab environment\n",
        "from google.colab import files\n",
        "uploaded = files.upload()"
      ],
      "execution_count": 4,
      "outputs": [
        {
          "output_type": "display_data",
          "data": {
            "text/html": [
              "\n",
              "     <input type=\"file\" id=\"files-7901b6f7-2ab8-4517-8c09-8abdb4433a6d\" name=\"files[]\" multiple disabled\n",
              "        style=\"border:none\" />\n",
              "     <output id=\"result-7901b6f7-2ab8-4517-8c09-8abdb4433a6d\">\n",
              "      Upload widget is only available when the cell has been executed in the\n",
              "      current browser session. Please rerun this cell to enable.\n",
              "      </output>\n",
              "      <script src=\"/nbextensions/google.colab/files.js\"></script> "
            ],
            "text/plain": [
              "<IPython.core.display.HTML object>"
            ]
          },
          "metadata": {}
        },
        {
          "output_type": "stream",
          "name": "stdout",
          "text": [
            "Saving plots.txt to plots.txt\n"
          ]
        }
      ]
    },
    {
      "cell_type": "code",
      "metadata": {
        "colab": {
          "base_uri": "https://localhost:8080/"
        },
        "id": "Z-3sWNg-unPv",
        "outputId": "0a6dd5ee-c5fc-403f-e46e-4303de0c197a"
      },
      "source": [
        "#Downloading gpt2 small model\n",
        "#For more information about model sizes check out: https://github.com/openai/gpt-2/issues/209\n",
        "gpt2.download_gpt2(model_name=\"355M\")"
      ],
      "execution_count": 5,
      "outputs": [
        {
          "output_type": "stream",
          "name": "stderr",
          "text": [
            "Fetching checkpoint: 1.05Mit [00:00, 161Mit/s]                                                      \n",
            "Fetching encoder.json: 1.05Mit [00:00, 6.27Mit/s]\n",
            "Fetching hparams.json: 1.05Mit [00:00, 532Mit/s]                                                    \n",
            "Fetching model.ckpt.data-00000-of-00001: 1.42Git [00:39, 36.2Mit/s]                                 \n",
            "Fetching model.ckpt.index: 1.05Mit [00:00, 192Mit/s]                                                \n",
            "Fetching model.ckpt.meta: 1.05Mit [00:00, 7.44Mit/s]\n",
            "Fetching vocab.bpe: 1.05Mit [00:00, 9.86Mit/s]\n"
          ]
        }
      ]
    },
    {
      "cell_type": "code",
      "metadata": {
        "id": "o_8tH0DGvIak",
        "colab": {
          "base_uri": "https://localhost:8080/"
        },
        "outputId": "2d867250-4002-4057-d224-9236f7b9bb03"
      },
      "source": [
        "from google.colab import files\n",
        "gpt2.mount_gdrive()"
      ],
      "execution_count": 6,
      "outputs": [
        {
          "output_type": "stream",
          "name": "stdout",
          "text": [
            "Mounted at /content/drive\n"
          ]
        }
      ]
    },
    {
      "cell_type": "code",
      "metadata": {
        "id": "woXMQToGxFGN"
      },
      "source": [
        "session = gpt2.start_tf_sess()"
      ],
      "execution_count": 7,
      "outputs": []
    },
    {
      "cell_type": "code",
      "metadata": {
        "colab": {
          "base_uri": "https://localhost:8080/"
        },
        "id": "YNqAx0kEBfXh",
        "outputId": "1b799dea-50c4-46cf-a6a6-3d72e2bc5f13"
      },
      "source": [
        "# Finetuning model to fit dataset\n",
        "gpt2.finetune(session, \n",
        "              dataset=\"plots.txt\", \n",
        "              model_name=\"355M\", \n",
        "              steps=1000, # no of iterations\n",
        "              print_every=10, # progress is printed every 10 iterations\n",
        "              sample_every=100, # sample o/p is printed every 100 iterations\n",
        "              save_every=250 # checkpoint saved every 250 iterations\n",
        "              )"
      ],
      "execution_count": 9,
      "outputs": [
        {
          "output_type": "stream",
          "name": "stdout",
          "text": [
            "WARNING:tensorflow:From /usr/local/lib/python3.7/dist-packages/gpt_2_simple/src/sample.py:17: where (from tensorflow.python.ops.array_ops) is deprecated and will be removed in a future version.\n",
            "Instructions for updating:\n",
            "Use tf.where in 2.0, which has the same broadcast rule as np.where\n",
            "WARNING:tensorflow:From /usr/local/lib/python3.7/dist-packages/gpt_2_simple/src/memory_saving_gradients.py:62: get_backward_walk_ops (from tensorflow.contrib.graph_editor.select) is deprecated and will be removed after 2019-06-06.\n",
            "Instructions for updating:\n",
            "Please use tensorflow.python.ops.op_selector.get_backward_walk_ops.\n",
            "Loading checkpoint models/355M/model.ckpt\n",
            "INFO:tensorflow:Restoring parameters from models/355M/model.ckpt\n",
            "Loading dataset...\n"
          ]
        },
        {
          "output_type": "stream",
          "name": "stderr",
          "text": [
            "100%|██████████| 1/1 [00:53<00:00, 53.97s/it]\n"
          ]
        },
        {
          "output_type": "stream",
          "name": "stdout",
          "text": [
            "dataset has 9546671 tokens\n",
            "Training...\n",
            "[10 | 42.66] loss=3.26 avg=3.26\n",
            "[20 | 74.37] loss=3.08 avg=3.17\n",
            "[30 | 106.05] loss=2.94 avg=3.09\n",
            "[40 | 137.70] loss=3.18 avg=3.12\n",
            "[50 | 169.37] loss=3.24 avg=3.14\n",
            "[60 | 201.00] loss=2.98 avg=3.11\n",
            "[70 | 232.64] loss=3.14 avg=3.12\n",
            "[80 | 264.28] loss=3.25 avg=3.14\n",
            "[90 | 295.92] loss=2.92 avg=3.11\n",
            "[100 | 327.55] loss=3.45 avg=3.15\n",
            "======== SAMPLE 1 ========\n",
            " is his girlfriend, Midge, then he calls back the phone number that Midge uses. He picks up the phone. The caller is the father of the teenage boy. He says \"Hey, Dad\" and calls the number. The caller says \"Yes!\" The caller then gives a warning to Midge because if she doesn't answer \"I'll shoot\" he will shoot her. The callers call back and Midge goes to the phone. She picks it up.The caller asks if she is going to die before he shoots her. The child screams \"No!\" The caller says \"I'm dying today!\" and goes on to tell Midge that she has been in love with him ever since she was born. Midge shoots him. The phone goes out and the caller answers it, saying \"Mommy\" Midge screams \"Nuh-uh!\" She leaves. In a fit of anger she throws herself off the cliff.<|endoftext|>\n",
            "\n",
            "<|startoftext|>The movie is based on the novel of the same name by Stephen King, which first appeared in 1991. The book also contains some scenes that have similarities by a writer called Charles, which later gets released as The Shining.\n",
            "\n",
            "<|endoftext|>\n",
            "\n",
            "<|startoftext|>In 1999, Sam Bellamy (Nolan North) becomes involved in a sex-fueled murder case involving his brother's lover, a former drug pusher named John Riggs (Joan Chiklis).Sam gets back in the house on Christmas Eve and discovers his brother and his daughter's car was stolen. Sam investigates and discovers that Riggs and John killed their father's former lover, and that the killers had been using her name as a street corner's address to rob them. At the crime scene, Sam finds that he and John are missing and he believes that the crime took place around the same time. When a cop arrives in their neighborhood, it turns out the two are together as the boyfriends' lover. Sam suspects that the couple is dead, and the police try to work with the couple, hoping to get them killed.At the precinct on Christmas Eve, it turns out that John is a \"manipulative\" thug, and he is planning to kidnap his ex-girlfriend when the police catch him with a knife. Meanwhile, John takes out a knife from the man's pocket, and starts to attack. The only one who can stop him is \"the perfect killer\" he met when he murdered her father who was the only one to save her life, but it is a woman named Claire (Diane Keachlin), and she stops John after he's already killed.The couple gets married and eventually find they are still engaged. Claire and John are going to find John's house, so John takes out a murder charge in her name over the phone while they are in her apartment. Before he leaves, Claire tells John that she killed him. Claire and John agree to end things, so she goes on a murder spree after killing their father's son and brother and his mother. John goes missing while he is on a job, and the cops find his body in the body of Claire's friend, who was murdered by the same couple that killed him. When John's mom finally finds his body, a few months later, he tells her how he is not dead but instead in a wheelchair and explains how he got back to being himself because he was too afraid to go back to life in a wheelchair, the only reason people who don't die are alive are because they can get back to being an ordinary person.The next time a person who died shows up on the screen, he shows signs of being in love with the person. This woman is a drug addict named Amanda Likens (Bria Litzinger). As they love each other from the start of this movie, the couple have problems for being in love. One couple falls in love but becomes \"tangled\" in love and it ends up in a love-hate relationship.<|endoftext|>\n",
            "\n",
            "<|startoftext|>In an attempt to escape the clutches of her abusive father for a few days, a young Elizabeth, who hates being told she's ugly, and in love, dresses up like an attractive old woman and makes a romantic night of it.After the couple breaks up, Elizabeth is forced to keep quiet about where she's been. They meet at a concert in New York, and while talking about their long-ago love affair, Elizabeth is shocked to realize the man she loves isn't her father. That young man is an abusive, violent, and impulsive alcoholic who wants to murder his wife, but refuses to admit to killing her. The man offers his hand, but Elizabeth refuses. In the morning, the man throws Elizabeth down a stair tower to her death, and Elizabeth has to make that decision. She decides to go back to the concert to get Elizabeth's hand, and Elizabeth agrees to be his boyfriend\n",
            "\n",
            "[110 | 397.15] loss=3.05 avg=3.14\n",
            "[120 | 428.78] loss=3.17 avg=3.14\n",
            "[130 | 460.42] loss=3.48 avg=3.17\n",
            "[140 | 492.07] loss=2.96 avg=3.15\n",
            "[150 | 523.70] loss=3.27 avg=3.16\n",
            "[160 | 555.33] loss=3.19 avg=3.16\n",
            "[170 | 586.90] loss=3.20 avg=3.16\n",
            "[180 | 618.50] loss=3.11 avg=3.16\n",
            "[190 | 650.12] loss=3.10 avg=3.16\n",
            "[200 | 681.75] loss=3.09 avg=3.15\n",
            "======== SAMPLE 1 ========\n",
            " which the officers do not know that they are being watched. \"I did tell him that the cops would not come if he turned them down, so he said he would turn me down,\" she says. She told the police that she could not help her daughter because she already had had sexual encounters with her brother because they both have had experiences with the police.The detective, the younger one, said that at 2.26am, he was called to the apartment to meet a local businessman from his neighborhood who had met the woman. The detective spoke to her after he left the apartment, and she told him that he had been watching her, and asked him how he could tell if she was a lesbian, but then she heard one voice in the background saying that she could not help her. She told him it was a voice calling her that the detective heard. The detective did not see the voice, but the young woman who said she could not help her daughter saw the voice and said, \"you must leave,\" and her body suddenly sank into the floor. She said that when the detective came for that, the girl turned around as if she did not see him and she said that the detective did not turn her down to save her daughter, her body was on the floor.The detective went to the kitchen and discovered that the body had been found with the voice whispering something to the young woman that said \"you cannot help your daughter,\" as she was not able to. She told the detective that she came into the bathroom to see the voice that she heard that evening and the voice's voice would not leave her, and that she wanted him to kill him. \"That was a huge lie,\" the detective tells the young woman, saying that they heard the sound, but the voice did.The young woman had heard them talking about their daughters, and she wanted to know why they were \"all right.\" She told her brother that they thought that they had had a sexual encounter with their own daughters. The detective and his assistant, the older one, also believed that they had had a sexual encounter with the young woman, telling them that they had had a lot to drink that day, and that their bodies had been separated by a large glass door. The detective is very disturbed at having to say these words, not knowing which person hears them, but is not certain which one hears the voice. The voice was supposed to have been calling her from the basement, but his assistant had been on the phone since then and the voice would not leave her. The voice also said that she would want a divorce and they should see her soon, but the detective told her that he would not agree because he had never had to deal with a lesbian. He thought that it would be strange if the voice from the basement had turned out to be a lesbian because he had not been able to tell the police what was going on in there when he and his brother were together.He told her that there was not going to be any trial on the matter because he had never had to deal with her in jail for prostitution, so there was nothing they could do for her and when he met the voice on the phone, he heard the voice he heard that night, and she told him that she is not interested in getting it over with or telling them about \"the voice calling\" on the phone. She told him to find a way to get her out of jail and if she didn't want to, she would rather he would kill her. She said that if he killed her, she would still take the witness stand.When the police were checking her car at the scene of the crime, the detective saw that \"Jane Doe\" was not there. He immediately called the police station where she had spent the night, and she told them that the door to the basement had been locked. When he returned to the basement she told him that she wanted the detective's office to tell him where it had been locked and he told her to go to his office for help.As the detective came back to the detective's office, he came up to her and told her that she was not interested in getting out of jail, and that she would just have to take her to the police station to get her out, just like they did earlier. He asked her to come over to his office so he could give her his card, and she told him that she didn't know who he was, and that she had never come from behind to save her. When the detective returned to the scene at 7.30am, he tried to get Jane Doe to come over to him, but she was reluctant to come. He explained what had happened and he told her that he got what he was after. He and the detective went into the basement to find a sign that said that they had found a killer's body, but when they went in, the detective told them that the sign was fake, as she had heard the detectives talking about it earlier. He told the detective that if she could come back inside and get her out of jail\n",
            "\n",
            "[210 | 748.62] loss=3.35 avg=3.16\n",
            "[220 | 780.15] loss=3.32 avg=3.17\n",
            "[230 | 811.63] loss=3.38 avg=3.18\n",
            "[240 | 843.08] loss=2.90 avg=3.17\n",
            "[250 | 874.55] loss=2.98 avg=3.16\n",
            "Saving checkpoint/run1/model-250\n",
            "[260 | 914.79] loss=3.32 avg=3.17\n",
            "[270 | 946.28] loss=3.04 avg=3.16\n",
            "[280 | 977.77] loss=3.13 avg=3.16\n",
            "[290 | 1009.24] loss=2.90 avg=3.15\n",
            "[300 | 1040.70] loss=3.09 avg=3.15\n",
            "======== SAMPLE 1 ========\n",
            " Pork is now a very nice restaurant. I feel a great excitement in the first moment of being at the restaurant. However, I'm unable to finish a dish or two. The chef is now serving us a steak to go and, for the remainder of the meal, he gives us a large tip of ten bucks. He tells our waiter that a new bill has been presented at his table since he was there last. I'm not at all impressed, but I feel I need to eat it. It's very late at night, and I don't know that I will ever finish the meal, so I take the waiter's advice and start an argument with the waiter.The next morning, while eating at a friend's place, I'm suddenly struck by the effects of alcoholism on my right arm. The effects do, however, not end with my arm completely crippled. I end up working several days a week for seven cents an hour. I find myself driving a large family of horses down to Colorado in a small horse-drawn car. A few of these families become quite prosperous and start a small ranch that is run by a woman named Lila and her husband. I find that Lila is not the right woman for me and start to fall behind in the household. She goes so far as to tell Lila that my family will soon have to move out. She makes her own plans to get the husband out of town and to have me married for her. I decide to marry her, and with our marriage, we will all be out of work.I am told by a friend to start driving his motorcycle. Lila takes me to her car and shows me the car. We start the first year together driving a little, and on the second year the family begins to see me as the man who should be driving the car, and I become jealous of that other man. As he sees me, he runs through a red light, and I slam my head against the rear-view mirror at the same time as I hear the other man saying that the light should have been there. As he dies that night, I take him home. I love this man with all my heart.At a gas station, which serves the residents of a large section of suburban San Fernando Valley, a man comes in with a bottle of beer. I immediately place the order for three barrels of beer. The customer is annoyed and complains loudly about how I cheated him. My mother comes in crying out the other day and asks why he is crying while the other person is eating with them. The other person explains that she needs to do things her way, a good deal easier because he is now a bartender. I agree with this.I begin my life with a car that I've kept at great expense. When I buy the car, a small dog, named Lola, runs loose. I am called and put on a waiting list. I get back to the lot in fifteen minutes and, even without the waiting list, the owner has to spend hundreds of dollars putting the new car on the lot, but then he has to put the old car back on the lot by buying the lot to put the dogs out of the way. When my wife sees that I am having Lola come and is furious, she returns from a walk in the parking lot to tell me that there are dogs out there. She tries to get me to come out to the scene of the dog, but I have a hard time staying there because I can hear dogs barking. As Lola and the other dogs bark at me, I feel a terrible guilt and begin to lose my temper with her. He then turns her and begins to pound on her neck but she holds out and gets punched in the face by another dog in the parking lot. Suddenly, I hear a truck running down the street and that appears to me one of the owners, who then starts a fire. I pull up alongside a fire that is set off at the scene and see it is a child and a young adult child playing with a huge fire. I am taken aback, because I was expecting this to be another house fire. I immediately begin to search the yard and finds no fire, so I move some logs and move the fire. As he tries to set me on fire again, I set him on fire again, and again he gets burnt up. Suddenly, a fire truck drives down the road, and then a second truck comes and, with the help of the fire department, removes the fire which has destroyed the building. I get to my feet and continue to search the yard. When Lola and the other dogs start barking at me, I feel the need to run into the fire, and I quickly manage to get through it without any injuries. The flames grow so large that I must abandon my search, because to go in again would be to risk a great deal more fire. Lola eventually stops crying and goes back to her place and begins to sob with relief. That evening, when I sit at a table, she tells me what\n",
            "\n",
            "[310 | 1107.53] loss=3.26 avg=3.15\n",
            "[320 | 1139.02] loss=3.05 avg=3.15\n",
            "[330 | 1170.50] loss=3.17 avg=3.15\n",
            "[340 | 1201.99] loss=3.07 avg=3.15\n",
            "[350 | 1233.45] loss=2.86 avg=3.14\n",
            "[360 | 1264.94] loss=2.83 avg=3.13\n",
            "[370 | 1296.60] loss=2.92 avg=3.12\n",
            "[380 | 1328.37] loss=3.29 avg=3.13\n",
            "[390 | 1360.23] loss=2.96 avg=3.12\n",
            "[400 | 1392.10] loss=3.14 avg=3.12\n",
            "======== SAMPLE 1 ========\n",
            " counter.\n",
            "\n",
            "In Paris, the young couple gets married, but there is a knock at the door and they are locked inside for the entire time. Their honeymoon is interrupted by the arrival of new bride Sophie and new groom-to-be Pierre, and they decide to stop at Chateau d'Or and get a quickie and honeymoon with their friends from the U.S. They also make their first kiss at Chaouette's apartment, during the final night in Paris before the wedding. Pierre invites the wife of Pierre's former lover, French Minister of Defense, Colonel de Witte, to the wedding. Meanwhile, Sophie is to marry Pierre and get a divorce. Pierre's former lover and wife comes back and informs Pierre that Sophie is going to marry Pierre after Pierre leaves France. Pierre goes to a French opera house to marry Sophie, but goes home, leaving Sophie alone in Paris. Pierre is unable to convince Sophie that her marriage with Pierre is a bad idea. Pierre gets Sophie's sister, Marie, in bed with him and persuades her to get married. Pierre finds a note and Marie's engagement ring on the bed, but Pierre knocks him out while Pierre is sleeping, and Pierre wakes up feeling the same way. Pierre finds Sophie and Pierre's wedding ring on the bed, but finds Sophie's ring on the floor. Pierre goes to Pierre's apartment, where Pierre is sleeping and discovers that Pierre is still sleeping in Pierre's bed. Pierre leaves Pierre's apartment to go back to Pierre and Marie and goes after Pierre, while Pierre goes to his girlfriend Marie and sees Pierre and Marie. Pierre goes to Pierre's apartment, where Pierre finds Sophie. Pierre confronts Pierre about Sophie, and Pierre is reluctant to believe Pierre. Pierre, Pierre and Marie get married in the middle of the restaurant. Pierre tells Pierre about Pierre being engaged to Sophie, but Pierre is suspicious. Pierre asks Pierre about Sophie's fianc Pierre is a military officer, while Pierre is the fianc of Sophie. Pierre goes to Pierre's apartment, where Pierre has Pierre's fianc Pierre visit Pierre. Pierre tells Pierre about Pierre's fianc, while Pierre goes to Pierre's apartment and finds Pierre asleep with Pierre and Marie. Pierre and Pierre go to the restaurant, where Pierre has Pierre visit his fianc Pierre shows Pierre what Pierre's fianc is doing. Pierre is able to convince Pierre that Pierre is Pierre. Pierre also attempts to persuade Pierre his fianc is Pierre. Pierre then tries to break into Pierre's apartment, but Pierre returns the favor by knocking out Pierre at a restaurant. Pierre then breaks Pierre out with Pierre telling Pierre he's Pierre and Pierre leaves Pierre with Pierre to see his fianc. Pierre then breaks down and begs Pierre not to break into Pierre's apartment again. Pierre follows Pierre into the room, where Pierre sees Pierre trying to break into one of her rooms. Pierre tries to break into Pierre's apartment, but sees Pierre is there. Pierre goes to Pierre's bedroom, where Pierre is sleeping. Pierre tries to break into Pierre's apartment, but Pierre knocks Pierre out. Pierre falls on his bed where he is attacked by Pierre's fianc. Pierre tries to stop Pierre from breaking into Pierre's apartment, but Pierre knocks Pierre unconscious and knocks Pierre unconscious. Pierre goes to see Pierre, who has also broken Pierre's fianc out of his room, but Pierre is unable to stop Pierre from breaking into Pierre's apartment. Pierre then takes Pierre's fianc to the restaurant, where Pierre tries to convince Pierre that Pierre is Pierre. Pierre then goes in to Pierre's apartment. Pierre attempts to sleep with Pierre as Pierre pushes Pierre aside. Pierre is unable to help Pierre sleep. Pierre runs away and gets Pierre's fianc again. Pierre then goes to Pierre's hotel. Pierre confronts Pierre, who says that he is Pierre. During this encounter, Pierre sees Marie who is there, but Pierre is able to get away from Pierre and run into Pierre's fianc in his hotel room. Pierre runs into the room and gets into Pierre's room. Pierre is then surprised by the voice, Pierre's fianc, the voice's voice saying Pierre is Pierre, saying Pierre is Pierre. Pierre begins to run in to Pierre, who tries to kill Pierre, but is then knocked unconscious. Pierre wakes up and Pierre tries to wake Pierre up. Pierre then confronts Pierre, who says that he is Pierre, stating he can help Pierre by getting her out of the house. Pierre begins to run in to Pierre, who says that he did it. Pierre runs in to Pierre, who knocks Pierre unconscious. Pierre confronts Pierre, who agrees to help Pierre sleep, but warns, saying he does not want to sleep with Pierre. Pierre then runs into the room where Pierre lies sleeping. Pierre begins to tell him of Pierre's past as Pierre's fianc with Pierre. Pierre then wakes up and fights Pierre, who knocks Pierre unconscious. Pierre then tries to sneak Pierre out of Pierre's hotel room, but Pierre knocks Pierre unconscious. Pierre goes into Pierre's apartment, where he discovers Pierre on top of\n",
            "\n",
            "[410 | 1459.29] loss=3.37 avg=3.13\n",
            "[420 | 1491.01] loss=3.21 avg=3.13\n",
            "[430 | 1522.67] loss=2.90 avg=3.12\n",
            "[440 | 1554.36] loss=3.03 avg=3.12\n",
            "[450 | 1586.03] loss=3.14 avg=3.12\n",
            "[460 | 1617.70] loss=2.86 avg=3.11\n",
            "[470 | 1649.35] loss=3.07 avg=3.11\n",
            "[480 | 1681.02] loss=3.11 avg=3.11\n",
            "[490 | 1712.70] loss=3.05 avg=3.11\n",
            "[500 | 1744.36] loss=3.06 avg=3.11\n",
            "Saving checkpoint/run1/model-500\n",
            "WARNING:tensorflow:From /tensorflow-1.15.2/python3.7/tensorflow_core/python/training/saver.py:963: remove_checkpoint (from tensorflow.python.training.checkpoint_management) is deprecated and will be removed in a future version.\n",
            "Instructions for updating:\n",
            "Use standard file APIs to delete files with this prefix.\n",
            "======== SAMPLE 1 ========\n",
            " and when she gets a call from her fianc they decide to make one. As it turns out the couple have also just begun their honeymoon and they have one night to plan where to go tomorrow.<|endoftext|>\n",
            "\n",
            "<|startoftext|>On the night of Halloween, 18-year-old John DeSantis, known to some as \"The Zombie\", is walking along a residential street in his suburban hometown, Indiana. Walking out of a strip club, he gets the impression that some of the girl's friends are trying to kill him, so he turns right on, just as the street is being gutted.A police car is already on its side; it is time to go. John gets in, but as he steps out onto the pavement, his foot starts to bleed. His step gets stuck between several buildings, and it keeps getting stuck. Eventually it gets stuck in a canal. After a little while, it can be seen that it is time to go. After John gets it, some of the girl's friends come to the party.<|endoftext|>\n",
            "\n",
            "<|startoftext|>Tom Clancy's A Soldier's Story stars Michael Douglas and William Holden in a pair of action adventure films: The first was in the 1960s, the second is in the present.The main character of the first movie is the same character as for the second: Tom Clancy. He (and the movie's producers) made sure to include him, and for years afterward they never gave him a proper role, only to introduce him, when a new film came out with Clancy in it.<|endoftext|>\n",
            "\n",
            "<|startoftext|>In a Victorian England, Elizabeth St. John goes to be a doctor there to find out what exactly she is looking for when she marries a wealthy English gentleman.<|endoftext|>\n",
            "\n",
            "<|startoftext|>A mysterious man called Babbys Peebles is invited by the devil to sing an old fairy tale. He sings a song that the woman and some of his friends are quite familiar with and the devil tells them that it is a legend he heard when he lost his father and that one day he heard it again from a passing devil.<|endoftext|>\n",
            "\n",
            "<|startoftext|>The film takes the form of a short story about a man called Peebles (John Huston) and his wife, Lark (Annette Bening). Peebles is the father of Babbys Peebles, whose life in the family's home has been disrupted by a mysterious death. A series of ghost sightings, as seen by the ghost of one of those people and the ghost of another, as well as glimpses of a living human being in the house, and mysterious visions of an older lady, who wears a hooded cap, are all connected to the deceased. The man tells everyone that he will not be at ease because of the ghost, but once he is gone, they do all feel the same way about themselves. In the first half of the film, the man's brother (Tom Selleck) is murdered by a mysterious, yet real, being who comes to visit the house every night. The real family is haunted by the specter of this real deceased brother, and when the family comes to, he is killed and is replaced by someone (played by Babbys Peebles' older brother). <|endoftext|>\n",
            "\n",
            "<|startoftext|>A black-clad figure watches from a car as it passes by a city on a snowy highway in California near the end of the film. The car is stopped by a blind man who is carrying his cane with him. After two or three minutes, the man begins to notice the man standing directly in front of the car. When he opens the car door, the figure jumps out, then back in, then back out. The man keeps jumping in and out of the doorway, which eventually turns out to be empty, so they open the window, which leads to a row of ice-filled houses on the city's eastern side. Each house is surrounded by wooden gates. Inside the house, the figure, with an arm in front of the barbed wire on the front gate, is the same tall, slender, bearded figure seen in the beginning of the short story.<|endoftext|>\n",
            "\n",
            "<|startoftext|>Richard Haggard, a young Jewish father, is engaged in a passionate fight with his wife, Dorothy, his rival in a crowded New York City apartment building. His wife is badly hurt after it gets too hot, and in agony, he asks her to drive and sleep in the car. She declines, fearing she will miss the train. The next morning the pair is still arguing, and it is found she actually did indeed stay and drive in the car.Haggard's wife, Dorothy Haggard, falls from a window\n",
            "\n",
            "[510 | 1818.96] loss=2.82 avg=3.10\n",
            "[520 | 1850.66] loss=3.11 avg=3.10\n",
            "[530 | 1882.35] loss=3.34 avg=3.11\n",
            "[540 | 1914.02] loss=3.06 avg=3.11\n",
            "[550 | 1945.71] loss=3.16 avg=3.11\n",
            "[560 | 1977.46] loss=3.27 avg=3.11\n",
            "[570 | 2009.21] loss=3.08 avg=3.11\n",
            "[580 | 2040.92] loss=3.20 avg=3.11\n",
            "[590 | 2072.66] loss=3.10 avg=3.11\n",
            "[600 | 2104.42] loss=2.73 avg=3.11\n",
            "======== SAMPLE 1 ========\n",
            " Van Sertana, the \"Little Brother\" and father of Jean and David, after he dies of heart failure. He returns to his family in Los Angeles and takes them with him, to go into business in the future. He tells them how his business will run. Jean sees this as a chance to leave his family behind. She accepts the job and begins to live independently, as opposed to the wealthy family.However, David's business does suffer. He starts an affair and has to leave the family business. The rest of his childhood is spent with loved ones in his job as well as on the road.<|endoftext|>\n",
            "\n",
            "<|startoftext|>In the near future, a young man, Mark Linsker, gets a ride on an open-cockpit motorcycle from a mysterious figure called Linsker, who tells him that the man he meets may be his long-lost son. The young man asks Linsker to give him a ride to see his old friend Linsker, but he has already given his name to another man who was very close to Linsker. The young man rides on a long road to meet Linsker, but Linsker never shows, and he turns down a number of offers for a ride. Mark sees Linsker for the first time in a year. He learns that there is a family fortune in the form of Linsker's son. His father, Charles Henry, was a successful businessman, but his father, Linsker, was a very good businessman and he took care of his son. Linsker gave a very generous inheritance to his son, the money having been hidden for years.Linsker has a very secret plan to prevent anyone else from seeing an exact copy of the boy, as Mark is the only way to keep the secrets. He travels into the future, and gives Linsker a secret message to say that the boy is going to meet up with a young woman after a couple days. But the young woman is a fake, and has met only a few times. It turns out, however, that someone else has made a deal with Linsker saying he is missing and going to the city of Los Angeles, but they do not know where. Linsker wants his son, the boy he never met, to find him, but he has never told anyone the truth.<|endoftext|>\n",
            "\n",
            "<|startoftext|>The story revolves around an English family, the \"Hoods\" who work at the famous Stapleford factory in Devon and South Wales. They are members of a family which has always manufactured things for the market. The family has been in trouble over the past 20 years, and although the family members have all worked hard to maintain the factory, none has been awarded the family's main award: the family's highest honor, the \"Golden Star Certificate\".It is believed that a child was born to them as the result of a marriage and is named \"Hood\" or \"Hoods\". The boy's name was \"Stampy\" or \"Stampy\". His parents worked at the factory and his siblings were at his side. He is, however to date, known only as \"The Great Boy\" or \"The Great One\" among the workers. He was brought up working in one of the factories, when no men were around. He was trained to perform all tasks in a day. In other words, \"honest work\".While some workers are out on strike, the Great Boy and the Great One still get paid for all the work they do at the factory. The family runs it into the ground, and has a lot of stock and goods produced, including the famous \"Crayford Snug of the World\", a heavy gun used in World War I.The Great Boy is the epitome of the factory's worker's ethic; he is seen to work late on a day he is awarded a \"gold star\" for that day, and has a new weapon in his pocket every time a worker needs the gun. He is the epitome of the factory's good life - as long as he does all of his work, no harm comes to anyone.But when some of the staff come home after a long period of the day they do not work, and the workers feel that there is a difference between hard work and hard work. They complain to their boss, and when they have their chance to speak to him, the manager tells them that they are being fired. The Great Boy and the Great One have been promoted to their own company. Some of his fellow workers were taken away from their regular jobs to join him, but Stampy and The Great Boy remain devoted to the work they were called to do. The Great Boy and the Great One have, in the end, been promoted to an open-cockpit motorcycle division at a new factory, where they will ride through the day.When a worker dies, a new award is offered to replace\n",
            "\n",
            "[610 | 2171.87] loss=3.09 avg=3.11\n",
            "[620 | 2203.58] loss=2.91 avg=3.10\n",
            "[630 | 2235.31] loss=2.96 avg=3.10\n",
            "[640 | 2267.05] loss=3.32 avg=3.10\n",
            "[650 | 2298.80] loss=3.06 avg=3.10\n",
            "[660 | 2330.52] loss=2.73 avg=3.09\n",
            "[670 | 2362.25] loss=3.01 avg=3.09\n",
            "[680 | 2393.98] loss=3.23 avg=3.10\n",
            "[690 | 2425.74] loss=2.80 avg=3.09\n",
            "[700 | 2457.50] loss=3.16 avg=3.09\n",
            "======== SAMPLE 1 ========\n",
            ".<0202\\\":{\"title\":\"The Story in Print\",\"thumbnail\":\"http://img.grouponcdn.com/seocms/jgJk7ZyJ7XFc6FvD1J2Cbwz4Y9jD5vDZ2/p/0.jpg\",\"url\":\"http://img.grouponcdn.com/seocms/k8Zk2NlZ3dDUQHGQY3Mk5g0K2qHJh7QMtZ/p/0.jpg\",\"expires_at\":\"1938-06-14T17:57:42\",\"content_type\":\"video\",\"content\":{\"title\":\"Earning the Title in Las Vegas\",\"thumbnail\":\"http://img.grouponcdn.com/seocms/jLdVwR7XB5C1tYJbE0C1Jf9y9J4Zm9/p/0.jpg\",\"url\":\"http://img.grouponcdn.com/seocms/k8Zk2NlZ3dDUQHGQY3Mk5g0K2qHJh7QMtZ/p/0.jpg\",\"expires_at\":\"1932-06-21T13:47:17\",\"content\":{\"title\":\"Wants, Needs, and Wants in the World,\"thumbnail\":\"http://img.grouponcdn.com/seocms/2cI5WV9P4V0kQVt-W3b1cLqOwH5Lw/p/0.jpg\",\"url\":\"http://img.grouponcdn.com/seocms/2cI5WV9P4V0kQVt-W3b1cLqOwH5Lw/p/0.jpg\",\"expires_at\":\"1942-05-01T01:53:39\",\"title\":\"Best Friends at Risk for Suicide\",\"thumbnail\":\"http://img.grouponcdn.com/seocms/4BHGgRf7KbV-X3JWQ0dR5QbH9/p/0.jpg\",\"url\":\"http://img.grouponcdn.com/seocms/4BHGgRf7KbV-X3JWQ0dR5QbH9/p/0.jpg\",\"expires_at\":\"1959-07-31T01:13:36\",\"content\":{\"title\":\"New England on Fire,\"thumbnail\":\"http://img.grouponcdn.com/seocms/F3JG5VJFZN8t-DyZc2T9s/o/0.jpg\",\"url\":\"http://img.grouponcdn.com/seocms/F3JG5VJFZN8t-DyZc2T9s/o/0.jpg\",\"expires_at\":\"1940-02-12T13:48:19\",\"content\":{\"title\":\"In Search of a Family Home for Mom and a Gifted Boy, a Longtime Care Home for All Kids at the Center\",\"thumbnail\":\"http://img.grouponcdn.com/seocms/VVYhM7tOIk2QV5Rd8dTU/o/0.jpg\",\"url\":\"http://img.grouponcdn.com/seocms/VVYhM7tOIk2QV5Rd8dTU/o/0.jpg\",\"expires_at\":\"2018-02-14T12:07:14\",\"content\":{\"title\":\"In Search of a Family Home for Mom and a Gifted Boy\",\"thumbnail\":\"http://img.grouponcdn.com/seocms/VVYhM7tOIk2QV5Rd8dTU/o/0.jpg\",\"url\":\"http://img.grouponcdn.com/seocms/VVYhM7tOIk2QV5Rd8dTU/o/0.jpg\",\"expires_at\":\"2018-02-01T08:54:19\",\"content\":{\"title\":\"The Story of The Kite Bottom Kid\",\"thumbnail\":\"http://img.grouponcdn.com/seocms/Vv2LH4zWb5kM5Ff5Gd7R0/o/0.jpg\",\"url\":\"http://img.grouponcdn.com/seocms/Vv2LH4zWb5kM5Ff5Gd7R0/o/0.jpg\",\"expires_at\":\"2018-01-28T12:\n",
            "\n",
            "[710 | 2524.77] loss=3.05 avg=3.09\n",
            "[720 | 2556.48] loss=3.28 avg=3.09\n",
            "[730 | 2588.21] loss=2.69 avg=3.09\n",
            "[740 | 2619.93] loss=3.12 avg=3.09\n",
            "[750 | 2651.66] loss=3.14 avg=3.09\n",
            "Saving checkpoint/run1/model-750\n",
            "[760 | 2690.70] loss=3.22 avg=3.09\n",
            "[770 | 2722.46] loss=2.85 avg=3.09\n",
            "[780 | 2754.24] loss=2.88 avg=3.08\n",
            "[790 | 2786.01] loss=3.13 avg=3.08\n",
            "[800 | 2817.79] loss=3.00 avg=3.08\n",
            "======== SAMPLE 1 ========\n",
            "start|>An old man is having an affair with a housewife, and so, he takes refuge in the attic while she is out for her evening walk. To her great dismay, the man who is having a relationship with her is married to the housewife.<|endoftext|>\n",
            "\n",
            "<|startoftext|>The story begins upon the shores of a floating island in the Pacific Ocean called \"The Island of Happiness.\" It is a small tropical paradise, and a place where people, dressed in tropical clothing, drink hot chocolate. One evening, an old man walks into one of the bars and asks for one of his chocolate bars. He hands his bar, but the bars that followed are made from nothing more than straws and paper. His bar, however, did not hold its powder or the bars that followed. The old man is a man who has no money or money as a bar owner. There is no money, and no money for bar owners to sell to him. His bar owner is a woman, but she has made the same mistake of thinking that her bar is in business. The old man is unable to afford his bar, so he takes his bar away. He also tries to stop his bar from being sold. As the man tries to sell the bar it is stolen by some men. Some old men, men with guns, come into the bar and begin shooting the old man. The old man tries to stop the men, but they are not willing. The old man tries to sell the bar, but it is no longer sold. It is then said that the old man is running off and no amount of money will buy him back. The old man says this to one of the people from the street: \"Why can't you sell the bar, just as it's getting sold?\"This is followed by various scenes showing several bars being sold in the marketplace to an old man who is trying to win back the bars he has taken away. The men from one bar are about to take the bar away. The old man, despite the trouble and threats, is determined to keep the bar. He takes the bar to another bar, where the bar owner tells the old man that he will sell it to the old man for a little more than the bar is worth today, and the bar owner is to agree. The bar owner has to go out and buy a new and improved bar for the old man's bar to be worth his bar. The bar owner gives him the bar just as it is leaving the bar, thinking the bar was taken away after that. The old man thinks that this is all he can have and that there is no other place where he can get his bar back. The old man leaves the bar and goes to the bank to collect.The narrator begins this book with a description of a young couple: \"When I was young, there were only two things in the world I loved: food and women. But as the years passed by, the worlds changed. Food came the way of choice, from a big, fat plate on which was a little boy - that is, until recently, I think. Now, that's all the things I really love.\"<|endoftext|>\n",
            "\n",
            "<|startoftext|>Tanya Gertram (Katherine Heigl), a young woman who has been living alone on the streets of Detroit, is a member of a women's organization founded by her father, who wants to be the president, which she does not. She has no job prospects, no income, and no money either to make a living or to support herself. As she struggles to get by, she becomes more and more desperate.After working as a cashier in a beauty salon, Tanya is approached by an attractive man, Don Ross (Vince Staples), who persuades her she can do better. Don helps her get a job at a grocery store, but the store she wants so badly to work for does not offer one to her. Tanya tries in vain to get a job in a funeral home or at a bank which offers higher wages to men who can't be hired by women, but the money has failed to buy her the kind of job she needs. The financial world is changing rapidly and the rules of the marketplace are changing, and as the world becomes more and more unequal, women in particular become ever more desperate. Don tries his best to cheer her up, but when she tells him why she was so angry that her father was so good to her and why she is not angry with him, she immediately becomes defensive. Her job and her earnings are still good, but the world has changed dramatically, and Tanya is starting to feel uncomfortable because women have become so desperate that anything is going to make them even marginally better off.At work, she is the only woman with an established reputation. Women are encouraged to put on a show for the world by appearing in various publicity stunts to attract clients. She makes a fortune, yet she is still poor and unl\n",
            "\n",
            "[810 | 2885.01] loss=3.01 avg=3.08\n",
            "[820 | 2916.75] loss=3.14 avg=3.08\n",
            "[830 | 2948.50] loss=2.84 avg=3.08\n",
            "[840 | 2980.27] loss=3.01 avg=3.08\n",
            "[850 | 3011.97] loss=3.29 avg=3.08\n",
            "[860 | 3043.74] loss=3.12 avg=3.08\n",
            "[870 | 3075.45] loss=3.15 avg=3.08\n",
            "[880 | 3107.19] loss=3.32 avg=3.09\n",
            "[890 | 3138.94] loss=3.16 avg=3.09\n",
            "[900 | 3170.69] loss=3.10 avg=3.09\n",
            "======== SAMPLE 1 ========\n",
            " pre-emptive strike on a car-bombing school.A doctor who works in her private practice suggests she get a divorce instead of going to work and so she begins to go to work. When she gets to work, she is greeted by several people who suspect she is \"bad\". When she leaves, she is surprised to find herself alone inside, and there is only one girl in a long line outside in the morning. The nurse wants her to leave, and she replies that she cannot help but feel depressed because \"it's a very busy time for every lady\". It is around this time that some suspicious-looking people on a walkabout are spotted (and presumably killed) by the police. After an investigation, all traces are found to the murder of the girls and several other suspicious people are arrested.It is later revealed that the girls' murders all originated from a murder. The police chief is the detective, a retired policeman named Mowgli, who investigates the girls' murders. A couple of months later, he is surprised to discover that all victims had been strangled by a combination of strangulation, drowning and electric current, a finding which leads him back to the crime scene. After Mowgli asks about the mysterious masked girl who had \"killed\", Mowgli says that \"he must have been very bright\".Mowgli is then confronted by two men who are all dressed alike. They say they are a police officer, who had been at Mowgli's side before. Mowgli says that they were friends, and that she had invited them to her home. Mowgli says that she had been going out with their father for a couple of weeks, and that he had never seen his mother, who had died from cancer.Mowgli says that after the couple had gone out, they found her on a beach. He says that this was exactly the kind of girl he wanted: \"A gentle, little girl, just like you.\" She is then attacked by her father and is nearly buried alive. There is a small hole in the sand.Mowgli finds his mother alive, but he does not know why. The policeman says that Mowgli is a good person who \"was going for the easy life\" but that Mowgli \"could be a terrible father\". Mowgli refuses to die, and tells Mowgli that he had never wanted to be a policeman so he would \"do what's best for you\"; which Mowgli replies that he \"couldn't do it without\", prompting Mowgli to laugh again. The policeman says that Mowgli is a \"very difficult man to talk to\", but Mowgli smiles and kisses the policeman. Mowgli takes Mowgli home.Mowgli then discovers that a policeman has killed Mowgli's mother. His father tries to take Mowgli to court, but Mowgli stops. He tells Mowgli that he felt his mother was being abandoned by him before Mowgli was born, and that Mowgli should accept what Mowgli felt himself to be. Mowgli tells Mowgli that he has felt it when he felt his mother being abandoned by him. Mowgli tells Mowgli that he has been getting \"an odd\" feeling all the time and that he is having an \"awkward\" time. Mowgli tells Mowgli that Mowgli has never been \"an easy guy\" to talk to, so Mowgli tries to make himself understand and he gets even more upset. Mowgli gets Mowgli into a car and tries to kill the police officer. But Mowgli stops him and tries to kill his policeman by accident. A car arrives. Mowgli opens the door and the policeman is killed. Mowgli tries to talk to the policeman, but is too frightened so Mowgli lets go of him and goes to his house. Mowgli tries to talk to the policeman, but Mowgli knows what it is like being abandoned by someone who has never loved him. The policeman puts an empty gun in Mowgli's hands and Mowgli says that he did not want to die. Mowgli tries to walk towards the policeman's house, but finds himself unable to get in and Mowgli walks out of the police station. Mowgli has been waiting outside the police station.A little later, Mowgli is visited by Mowgli's sister Polly (played by Alice Walker), who tells him that the girls' killer was Mowgli's sister. Mowgli's sister tells him that Mowgli had a bad dream about Mowgli's mother dying. Mowgli thinks that the girls died there because he fell asleep\n",
            "\n",
            "[910 | 3238.02] loss=2.89 avg=3.08\n",
            "[920 | 3269.80] loss=2.97 avg=3.08\n",
            "[930 | 3301.53] loss=2.97 avg=3.08\n",
            "[940 | 3333.29] loss=3.23 avg=3.08\n",
            "[950 | 3365.03] loss=3.05 avg=3.08\n",
            "[960 | 3396.78] loss=3.06 avg=3.08\n",
            "[970 | 3428.54] loss=2.88 avg=3.08\n",
            "[980 | 3460.31] loss=2.99 avg=3.08\n",
            "[990 | 3492.01] loss=2.98 avg=3.08\n",
            "[1000 | 3523.73] loss=2.95 avg=3.07\n",
            "Saving checkpoint/run1/model-1000\n"
          ]
        }
      ]
    },
    {
      "cell_type": "code",
      "metadata": {
        "id": "leHBhqa2h6Us"
      },
      "source": [
        "gpt2.copy_checkpoint_to_gdrive(run_name='run1')"
      ],
      "execution_count": 11,
      "outputs": []
    },
    {
      "cell_type": "code",
      "metadata": {
        "colab": {
          "base_uri": "https://localhost:8080/"
        },
        "id": "crZux5KQCzSh",
        "outputId": "559db83b-d666-45e1-825a-e67bac9f33b2"
      },
      "source": [
        "# Generating plots (Note: you could add length parameter to set the length of plot, but I think the model generates better without it)\n",
        "gpt2.generate(session,\n",
        "              run_name = 'run1',\n",
        "              temperature = 0.7, # determines the randomness of generated text ie higher the value, higher the randomness (Note: Optimal temperature values lie between 0.7 to 1.2)\n",
        "              nsamples = 1, # no of outputs to be generated\n",
        "              prefix = \"<|startoftext|>\", # prefix used in training dataset to indicate beginning of a plots (Note: default prefix is “<|startoftext|>”, but in this case I've used <BOL>)\n",
        "              truncate = \"<|endoftext|>\", # postfix used in training dataset to indicate end of a plot (Note: default postfix is “<|endoftext|>”, but in this case I've used <EOL>)\n",
        "              include_prefix = False\n",
        "              )\n"
      ],
      "execution_count": 23,
      "outputs": [
        {
          "output_type": "stream",
          "name": "stdout",
          "text": [
            "D.L. Hensley (Pat O'Brien) is a lonely janitor who has just been fired from the city's garbage disposal because of his alleged involvement in a phony-ass robbery. His partner, who is a police officer named George L. Williams (Oscar Easley), had been out on bail for stealing a painting, and he had been waiting for Hensley to bring it to him.Hensley and the two police officers have a tense meeting where they concoct a plan to get the painting back and prove to the police that they stole it. They meet up with two men they recognize from the painting, and they go to the house, where they find the painting. They then go on to find that the two men are the real thieves and the real culprits.Hensley and the cops go to the house, but the real thieves and the real culprits are there and they are all innocent.\n"
          ]
        }
      ]
    },
    {
      "cell_type": "code",
      "metadata": {
        "id": "ANNxhX1akogi"
      },
      "source": [
        ""
      ],
      "execution_count": null,
      "outputs": []
    }
  ]
}